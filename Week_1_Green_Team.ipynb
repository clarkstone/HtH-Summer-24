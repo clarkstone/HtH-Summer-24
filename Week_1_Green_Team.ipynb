{
  "nbformat": 4,
  "nbformat_minor": 0,
  "metadata": {
    "colab": {
      "provenance": [],
      "authorship_tag": "ABX9TyP/cAJuuQF2EPd/c5GzjWmF",
      "include_colab_link": true
    },
    "kernelspec": {
      "name": "python3",
      "display_name": "Python 3"
    },
    "language_info": {
      "name": "python"
    }
  },
  "cells": [
    {
      "cell_type": "markdown",
      "metadata": {
        "id": "view-in-github",
        "colab_type": "text"
      },
      "source": [
        "<a href=\"https://colab.research.google.com/github/clarkstone/HtH-Summer-24/blob/main/Week_1_Green_Team.ipynb\" target=\"_parent\"><img src=\"https://colab.research.google.com/assets/colab-badge.svg\" alt=\"Open In Colab\"/></a>"
      ]
    },
    {
      "cell_type": "code",
      "execution_count": 11,
      "metadata": {
        "colab": {
          "base_uri": "https://localhost:8080/"
        },
        "id": "thZuspUJ3dSl",
        "outputId": "3886834f-3aac-496b-b17a-ef53c748e729"
      },
      "outputs": [
        {
          "output_type": "stream",
          "name": "stdout",
          "text": [
            "Hello World\n",
            "Hello World\n",
            "True\n",
            "False\n"
          ]
        }
      ],
      "source": [
        "print(\"Hello World\")\n",
        "#string = anything contained by \"\"\n",
        "#including = \"6402792986\" \"800 W Marietta\"\n",
        "print(\"Hello\" + \" \" + \"World\")\n",
        "\n",
        "\n",
        "#integers = any whole numbers, Without a decimal; can be used for math\n",
        "\n",
        "#float = any number with a decimal, including whole numbers with .0 on them; can be used for math\n",
        "# 1.0\n",
        "\n",
        "#boolean = True False\n",
        "print(7 > 2)\n",
        "print(2 > 7)\n",
        "x = True"
      ]
    },
    {
      "cell_type": "code",
      "source": [],
      "metadata": {
        "id": "VO-_oNMP5140"
      },
      "execution_count": null,
      "outputs": []
    }
  ]
}